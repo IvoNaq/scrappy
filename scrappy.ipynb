{
 "cells": [
  {
   "cell_type": "code",
   "execution_count": 19,
   "metadata": {},
   "outputs": [
    {
     "name": "stdout",
     "output_type": "stream",
     "text": [
      "                                       0\n",
      "0                      [Volver al sitio]\n",
      "1    [mariafernandafabregas@hotmail.com]\n",
      "2        [\\n, [[],  Ver en el mapa], \\n]\n",
      "3          [julietairinalopez@gmail.com]\n",
      "4        [\\n, [[],  Ver en el mapa], \\n]\n",
      "..                                   ...\n",
      "200      [\\n, [[],  Ver en el mapa], \\n]\n",
      "201             [Política de Privacidad]\n",
      "202             [Términos y Condiciones]\n",
      "203                           [Ingresar]\n",
      "204                            [Acceder]\n",
      "\n",
      "[205 rows x 1 columns]\n"
     ]
    }
   ],
   "source": [
    "from selenium import webdriver\n",
    "from bs4 import BeautifulSoup\n",
    "import pandas as pd\n",
    "import requests\n",
    "\n",
    "URL='https://registro.idraetgroup.com/map/dermopurity?lat=-34.589900799999995&long=-58.3958528&address='\n",
    "page=requests.get(URL)\n",
    "soup=BeautifulSoup(page.content,'html.parser')\n",
    "mails=soup.find_all('a')\n",
    "\n",
    "\n",
    "mails=pd.DataFrame(mails)\n",
    "print(mails)\n",
    "\n",
    "mails.to_csv('mails.csv')"
   ]
  },
  {
   "cell_type": "code",
   "execution_count": null,
   "metadata": {},
   "outputs": [],
   "source": []
  },
  {
   "cell_type": "code",
   "execution_count": null,
   "metadata": {},
   "outputs": [],
   "source": []
  }
 ],
 "metadata": {
  "kernelspec": {
   "display_name": "Python 3",
   "language": "python",
   "name": "python3"
  },
  "language_info": {
   "codemirror_mode": {
    "name": "ipython",
    "version": 3
   },
   "file_extension": ".py",
   "mimetype": "text/x-python",
   "name": "python",
   "nbconvert_exporter": "python",
   "pygments_lexer": "ipython3",
   "version": "3.7.6"
  }
 },
 "nbformat": 4,
 "nbformat_minor": 4
}
